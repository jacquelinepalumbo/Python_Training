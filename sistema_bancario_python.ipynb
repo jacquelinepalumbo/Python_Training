{
  "nbformat": 4,
  "nbformat_minor": 0,
  "metadata": {
    "colab": {
      "provenance": [],
      "authorship_tag": "ABX9TyOFuLmt5uGNbjwgkKBNtIul",
      "include_colab_link": true
    },
    "kernelspec": {
      "name": "python3",
      "display_name": "Python 3"
    },
    "language_info": {
      "name": "python"
    }
  },
  "cells": [
    {
      "cell_type": "markdown",
      "metadata": {
        "id": "view-in-github",
        "colab_type": "text"
      },
      "source": [
        "<a href=\"https://colab.research.google.com/github/jacquelinepalumbo/Python_Training/blob/main/sistema_bancario_python.ipynb\" target=\"_parent\"><img src=\"https://colab.research.google.com/assets/colab-badge.svg\" alt=\"Open In Colab\"/></a>"
      ]
    },
    {
      "cell_type": "markdown",
      "source": [
        "# **Sistema Bancário em Python-Básico**"
      ],
      "metadata": {
        "id": "gMlOIphhjKqI"
      }
    },
    {
      "cell_type": "markdown",
      "source": [
        "ANTES de começar, ❗ não esquecer ❗ de, antes de mais nada, SALVAR este notebook no ambiente COLAB no drive da tua própria conta GOOGLE."
      ],
      "metadata": {
        "id": "w_tDUtjohvYN"
      }
    },
    {
      "cell_type": "markdown",
      "source": [
        "O objetivo é implementar três operações essenciais: depósito, saque e extrato. Será aplicado a linguagem Python e criar um sistema funcional que simule as operações bancárias."
      ],
      "metadata": {
        "id": "zq2zJtQPjGSa"
      }
    },
    {
      "cell_type": "markdown",
      "source": [
        "# Importação das bibliotecas"
      ],
      "metadata": {
        "id": "j8fnlQ5gjeJ5"
      }
    },
    {
      "cell_type": "code",
      "execution_count": null,
      "metadata": {
        "colab": {
          "base_uri": "https://localhost:8080/"
        },
        "id": "4iwHtj--ii20",
        "outputId": "0ae7181b-53c3-4212-fbda-f056c89579de"
      },
      "outputs": [
        {
          "output_type": "stream",
          "name": "stdout",
          "text": [
            "Configuração Concluída\n"
          ]
        }
      ],
      "source": [
        "import numpy as np # Importação do Numpy\n",
        "import pandas as pd # Importação do Pandas\n",
        "import textwrap\n",
        "print(\"Configuração Concluída\") # Exibir na tela \"Configuração Concluída\""
      ]
    },
    {
      "cell_type": "markdown",
      "source": [
        "# Operações"
      ],
      "metadata": {
        "id": "yXlGD_dBhA-V"
      }
    },
    {
      "cell_type": "markdown",
      "source": [
        "**Operação de depósito**"
      ],
      "metadata": {
        "id": "ML536_9OqcDY"
      }
    },
    {
      "cell_type": "markdown",
      "source": [
        "Deve ser possível depositar valores positivos para a conta bacária. A v1 do projeto trabalha apenas com 1 usuário, dessa forma não precisamos nos preocupar em identificar qual é o número de agências e conta bancária. Todos os depósitos devem ser armazenados em uma variável e exibidos na operação de extrato"
      ],
      "metadata": {
        "id": "VUBPFwIuj7-0"
      }
    },
    {
      "cell_type": "markdown",
      "source": [
        "**Operação de saque**"
      ],
      "metadata": {
        "id": "BDoq1LrjkxDQ"
      }
    },
    {
      "cell_type": "markdown",
      "source": [
        "O sistema deve permitir realizar 3 saques diários com limite máximo de R$ 500,00 por saque. Caso o usuário não tenha saldo em conta, o sistema deve exibir uma mensagem informando que não será possível sacar o dinehiro por falta de saldo. Todos os saques devem ser armazenados em uma variável e exibidos na operação extrato."
      ],
      "metadata": {
        "id": "kDbnPrj9k1w5"
      }
    },
    {
      "cell_type": "markdown",
      "source": [
        "**Operação de extrato**"
      ],
      "metadata": {
        "id": "3h0BwNfMlVVx"
      }
    },
    {
      "cell_type": "markdown",
      "source": [
        "Essa operação deve listar todos os depóstios e saques realizados na conta. No fim da listagem, deve ser exibido o saldo atual da conta. Se o extrato estiver em branco, exibir a mensagem: Não foram realizadas movimentações."
      ],
      "metadata": {
        "id": "uKz96XQWlZAQ"
      }
    },
    {
      "cell_type": "markdown",
      "source": [
        "# Definindo as variáveis"
      ],
      "metadata": {
        "id": "P0pTBL0WsT8L"
      }
    },
    {
      "cell_type": "markdown",
      "source": [
        "Criando o menu com as opções para realizar a operação (menu):\n",
        "\n",
        "1.   Depositar\n",
        "2.   Sacar\n",
        "3.   Extrato\n",
        "4.   Sair"
      ],
      "metadata": {
        "id": "brN6AC5gghAe"
      }
    },
    {
      "cell_type": "markdown",
      "source": [
        " Definindo variáveis das operações que serão realizadas:\n",
        "\n",
        "\n",
        "*   saldo = 0  \n",
        "*   limite = 500\n",
        "*   extrato = \"\"\n",
        "*   numero_saque = 0\n",
        "*   LIMITE_SAQUES = 3"
      ],
      "metadata": {
        "id": "OD-DTSHQf92c"
      }
    },
    {
      "cell_type": "markdown",
      "source": [
        "# Loop infinito para realizar as funções"
      ],
      "metadata": {
        "id": "h-Ty21nDtBqb"
      }
    },
    {
      "cell_type": "markdown",
      "source": [
        "Com o loop `while` podemos executar um conjunto de instruções, desde que uma condição seja verdadeira.\n"
      ],
      "metadata": {
        "id": "bPEpMfAGuj2K"
      }
    },
    {
      "cell_type": "markdown",
      "source": [
        "Com a instrução `break`, podemos parar o loop mesmo que o enquanto a condição é verdadeira."
      ],
      "metadata": {
        "id": "EQH7jqsDu212"
      }
    },
    {
      "cell_type": "markdown",
      "source": [
        "o `if` será um elemento que faz o teste, com ramificações à direita e à esquerda; depois do teste, o IF direciona para um lado do fluxograma se o teste for válido; e para outro lado, se o teste for invalido."
      ],
      "metadata": {
        "id": "HkoiWNkHv4KC"
      }
    },
    {
      "cell_type": "markdown",
      "source": [
        "A palavra-chave `elif` é a maneira do Python de dizer \"se as condições anteriores não fossem verdadeiras, então tente esta condição\"."
      ],
      "metadata": {
        "id": "g0ULmRSivRhn"
      }
    },
    {
      "cell_type": "markdown",
      "source": [
        "Com a instrução `else` podemos executar um bloco de código uma vez quando o condição não é mais verdadeira:"
      ],
      "metadata": {
        "id": "gQBaty27vDHz"
      }
    },
    {
      "cell_type": "code",
      "source": [
        "# Criando o menu com as opções para realizar a operação\n",
        "menu = \"\"\"\n",
        "[1] Depositar\n",
        "[2] Sacar\n",
        "[3] Extrato\n",
        "[4] Sair\n",
        "\n",
        "=>\"\"\"\n",
        "\n",
        "# Definindo cvariáveis das operações que serão realizadas\n",
        "\n",
        "saldo = 0 # saldo do usuário\n",
        "limite = 500 # limite de valor por saque\n",
        "extrato = \"\" # string\n",
        "numero_saques = 0 # quantos saques foram realizados\n",
        "LIMITE_SAQUES = 3 # limite que saques diários\n",
        "\n",
        "\n",
        "while True:\n",
        "\n",
        "  opcao = input(menu) # Exibindo a variável menu\n",
        "\n",
        "  if opcao == \"1\": # Solução de depósito\n",
        "    valor = float(input(\"Informe o valor do depósito: \"))\n",
        "\n",
        "    if valor > 0: # evita valores negativos\n",
        "      saldo += valor  # operação para adicionar o valor no saldo em conta\n",
        "      extrato += f\"Depósito: R$ {valor: .2f}\\n\"  # concatena a string valor com duas casas decimais no extrato\n",
        "\n",
        "    else:\n",
        "      print(\"Operação falhou! O valor informado é inválido.\")\n",
        "\n",
        "\n",
        "  elif opcao == \"2\": # Solução de saque\n",
        "    valor = float(input(\"Informe o valor do saque: \"))\n",
        "\n",
        "    excedeu_saldo = valor > saldo\n",
        "\n",
        "    excedeu_limite = valor > limite\n",
        "\n",
        "    excedeu_saques = numero_saques >= LIMITE_SAQUES\n",
        "\n",
        "    if excedeu_saldo:\n",
        "      print(\"Operação falhou! Você não tem saldo suficiente.\")\n",
        "\n",
        "    elif excedeu_limite:\n",
        "      print(\"Operação falhou! O valor do saque excede o limite.\")\n",
        "\n",
        "    elif excedeu_saques:\n",
        "      print(\"Operação falhou! Número máximo de saques foi excedido.\")\n",
        "\n",
        "    elif valor > 0:\n",
        "      saldo -= valor\n",
        "      extrato += f\"Saque R${valor: .2f}\\n\"\n",
        "      numero_saques += 1\n",
        "\n",
        "    else:\n",
        "      print(\"Operação falhou! O valor informado é inválido.\")\n",
        "\n",
        "  elif opcao == \"3\":\n",
        "    print(\"\\n=========== Extrato ===========\")\n",
        "    print(\"Nao foram realizadas movimentações.\" if not extrato else extrato)\n",
        "    print(f\"\\nSaldo: R$ {saldo: .2f}\")\n",
        "    print(\"=================================\")\n",
        "\n",
        "  elif opcao == \"4\":\n",
        "    break\n",
        "\n",
        "  else:\n",
        "    print(\"Operação inválida, por favor selecionar novamente a operação desejada.\")"
      ],
      "metadata": {
        "colab": {
          "base_uri": "https://localhost:8080/"
        },
        "id": "YEibJLkArRIs",
        "outputId": "9fdf4927-3d30-48fa-cde0-6026c2dc1b2b"
      },
      "execution_count": null,
      "outputs": [
        {
          "name": "stdout",
          "output_type": "stream",
          "text": [
            "\n",
            "[1] Depositar\n",
            "[2] Sacar\n",
            "[3] Extrato\n",
            "[4] Sair\n",
            "\n",
            "=>1\n",
            "Informe o valor do depósito: -100\n",
            "Operação falhou! O valor informado é inválido.\n",
            "\n",
            "[1] Depositar\n",
            "[2] Sacar\n",
            "[3] Extrato\n",
            "[4] Sair\n",
            "\n",
            "=>1\n",
            "Informe o valor do depósito: 50\n",
            "\n",
            "[1] Depositar\n",
            "[2] Sacar\n",
            "[3] Extrato\n",
            "[4] Sair\n",
            "\n",
            "=>3\n",
            "\n",
            "=========== Extrato ===========\n",
            "Depósito: R$  50.00\n",
            "\n",
            "\n",
            "Saldo: R$  50.00\n",
            "=================================\n",
            "\n",
            "[1] Depositar\n",
            "[2] Sacar\n",
            "[3] Extrato\n",
            "[4] Sair\n",
            "\n",
            "=>1\n",
            "Informe o valor do depósito: 5500\n",
            "\n",
            "[1] Depositar\n",
            "[2] Sacar\n",
            "[3] Extrato\n",
            "[4] Sair\n",
            "\n",
            "=>2\n",
            "Informe o valor do saque: 600\n",
            "Operação falhou! O valor do saque excede o limite.\n",
            "\n",
            "[1] Depositar\n",
            "[2] Sacar\n",
            "[3] Extrato\n",
            "[4] Sair\n",
            "\n",
            "=>3\n",
            "\n",
            "=========== Extrato ===========\n",
            "Depósito: R$  50.00\n",
            "Depósito: R$  5500.00\n",
            "\n",
            "\n",
            "Saldo: R$  5550.00\n",
            "=================================\n",
            "\n",
            "[1] Depositar\n",
            "[2] Sacar\n",
            "[3] Extrato\n",
            "[4] Sair\n",
            "\n",
            "=>2\n",
            "Informe o valor do saque: 650\n",
            "Operação falhou! O valor do saque excede o limite.\n",
            "\n",
            "[1] Depositar\n",
            "[2] Sacar\n",
            "[3] Extrato\n",
            "[4] Sair\n",
            "\n",
            "=>2\n",
            "Informe o valor do saque: 175.50\n",
            "\n",
            "[1] Depositar\n",
            "[2] Sacar\n",
            "[3] Extrato\n",
            "[4] Sair\n",
            "\n",
            "=>3\n",
            "\n",
            "=========== Extrato ===========\n",
            "Depósito: R$  50.00\n",
            "Depósito: R$  5500.00\n",
            "Saque R$ 175.50\n",
            "\n",
            "\n",
            "Saldo: R$  5374.50\n",
            "=================================\n",
            "\n",
            "[1] Depositar\n",
            "[2] Sacar\n",
            "[3] Extrato\n",
            "[4] Sair\n",
            "\n",
            "=>2\n",
            "Informe o valor do saque: 467\n",
            "\n",
            "[1] Depositar\n",
            "[2] Sacar\n",
            "[3] Extrato\n",
            "[4] Sair\n",
            "\n",
            "=>2\n",
            "Informe o valor do saque: 60\n",
            "\n",
            "[1] Depositar\n",
            "[2] Sacar\n",
            "[3] Extrato\n",
            "[4] Sair\n",
            "\n",
            "=>379\n",
            "Operação inválida, por favor selecionar novamente a operação desejada.\n",
            "\n",
            "[1] Depositar\n",
            "[2] Sacar\n",
            "[3] Extrato\n",
            "[4] Sair\n",
            "\n",
            "=>2\n",
            "Informe o valor do saque: 460\n",
            "Operação falhou! Número máximo de saques foi excedido.\n",
            "\n",
            "[1] Depositar\n",
            "[2] Sacar\n",
            "[3] Extrato\n",
            "[4] Sair\n",
            "\n",
            "=>1\n",
            "Informe o valor do depósito: -80\n",
            "Operação falhou! O valor informado é inválido.\n",
            "\n",
            "[1] Depositar\n",
            "[2] Sacar\n",
            "[3] Extrato\n",
            "[4] Sair\n",
            "\n",
            "=>6\n",
            "Operação inválida, por favor selecionar novamente a operação desejada.\n",
            "\n",
            "[1] Depositar\n",
            "[2] Sacar\n",
            "[3] Extrato\n",
            "[4] Sair\n",
            "\n",
            "=>4\n"
          ]
        }
      ]
    }
  ]
}